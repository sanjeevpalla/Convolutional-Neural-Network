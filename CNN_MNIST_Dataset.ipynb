{
 "cells": [
  {
   "cell_type": "markdown",
   "metadata": {},
   "source": [
    "#                                                     MLP on MNIST Dataset"
   ]
  },
  {
   "cell_type": "code",
   "execution_count": 1,
   "metadata": {},
   "outputs": [
    {
     "name": "stderr",
     "output_type": "stream",
     "text": [
      "Using TensorFlow backend.\n"
     ]
    }
   ],
   "source": [
    "import keras\n",
    "from keras.utils import np_utils\n",
    "from keras.datasets import mnist \n",
    "import seaborn as sns\n",
    "from keras.initializers import RandomNormal\n",
    "import matplotlib.pyplot as plt\n",
    "import numpy as np\n",
    "import time\n"
   ]
  },
  {
   "cell_type": "markdown",
   "metadata": {},
   "source": [
    "# [1] Dataset Loading and pre-processing"
   ]
  },
  {
   "cell_type": "code",
   "execution_count": 2,
   "metadata": {},
   "outputs": [],
   "source": [
    "# the data, shuffled and split between train and test sets \n",
    "(X_train, y_train), (X_test, y_test) = mnist.load_data()"
   ]
  },
  {
   "cell_type": "code",
   "execution_count": 3,
   "metadata": {},
   "outputs": [
    {
     "name": "stdout",
     "output_type": "stream",
     "text": [
      "Number of training examples : 60000 and each image is of shape (28, 28)\n",
      "Number of training examples : 10000 and each image is of shape (28, 28)\n"
     ]
    }
   ],
   "source": [
    "print(\"Number of training examples :\", X_train.shape[0], \"and each image is of shape (%d, %d)\"%(X_train.shape[1], X_train.shape[2]))\n",
    "print(\"Number of training examples :\", X_test.shape[0], \"and each image is of shape (%d, %d)\"%(X_test.shape[1], X_test.shape[2]))"
   ]
  },
  {
   "cell_type": "code",
   "execution_count": 4,
   "metadata": {},
   "outputs": [],
   "source": [
    "from keras import backend as K\n",
    "\n",
    "# input image dimensions\n",
    "img_rows, img_cols = 28, 28\n",
    "\n",
    "if K.image_data_format() == 'channels_first':\n",
    "    X_train = X_train.reshape(X_train.shape[0], 1, img_rows, img_cols)\n",
    "    X_test = X_test.reshape(X_test.shape[0], 1, img_rows, img_cols)\n",
    "    input_shape = (1, img_rows, img_cols)\n",
    "else:\n",
    "    X_train = X_train.reshape(X_train.shape[0], img_rows, img_cols, 1)\n",
    "    X_test = X_test.reshape(X_test.shape[0], img_rows, img_cols, 1)\n",
    "    input_shape = (img_rows, img_cols, 1)"
   ]
  },
  {
   "cell_type": "code",
   "execution_count": 5,
   "metadata": {},
   "outputs": [
    {
     "name": "stdout",
     "output_type": "stream",
     "text": [
      "Number of training examples : 60000 and each image is of shape : (60000, 28, 28, 1)\n",
      "Number of training examples : 10000 and each image is of shape : (10000, 28, 28, 1)\n"
     ]
    }
   ],
   "source": [
    "print(\"Number of training examples :\", X_train.shape[0], \"and each image is of shape :\",X_train.shape)\n",
    "print(\"Number of training examples :\", X_test.shape[0], \"and each image is of shape :\",X_test.shape)"
   ]
  },
  {
   "cell_type": "code",
   "execution_count": 6,
   "metadata": {},
   "outputs": [],
   "source": [
    "# Normalization\n",
    "X_train = X_train.astype('float32')\n",
    "X_test = X_test.astype('float32')\n",
    "X_train /= 255\n",
    "X_test /= 255"
   ]
  },
  {
   "cell_type": "code",
   "execution_count": 7,
   "metadata": {},
   "outputs": [],
   "source": [
    "# convert class vectors to binary class matrices\n",
    "num_classes = 10\n",
    "y_train = keras.utils.to_categorical(y_train, num_classes)\n",
    "y_test = keras.utils.to_categorical(y_test, num_classes)"
   ]
  },
  {
   "cell_type": "markdown",
   "metadata": {},
   "source": [
    "# [2] CNN Models"
   ]
  },
  {
   "cell_type": "code",
   "execution_count": 8,
   "metadata": {},
   "outputs": [],
   "source": [
    "from keras.models import Sequential \n",
    "from keras.layers import Dense, Activation\n",
    "from keras.layers import Dropout,Flatten\n",
    "from keras.layers.normalization import BatchNormalization\n",
    "from keras.layers import Conv2D, MaxPooling2D"
   ]
  },
  {
   "cell_type": "code",
   "execution_count": 9,
   "metadata": {},
   "outputs": [],
   "source": [
    "# some model parameters\n",
    "\n",
    "output_dim = 10\n",
    "input_dim = X_train.shape[1]\n",
    "\n",
    "batch_size = 128 \n",
    "nb_epoch = 30"
   ]
  },
  {
   "cell_type": "code",
   "execution_count": 10,
   "metadata": {},
   "outputs": [],
   "source": [
    "def plt_epoch_vs_loss(x, vy, ty):\n",
    "    fig = plt.figure(figsize=(9,7))\n",
    "    sns.set_style(\"whitegrid\",{'axes.grid' : True})\n",
    "    plt.plot(x, vy, 'b', label=\"Validation Loss\")\n",
    "    plt.plot(x, ty, 'r', label=\"Train Loss\")\n",
    "    plt.legend()\n",
    "    plt.xlabel(\"epoch\")\n",
    "    plt.ylabel(\"Categorical Crossentropy Loss\")\n",
    "    plt.title(\"Loss\")\n",
    "    plt.show()\n"
   ]
  },
  {
   "cell_type": "markdown",
   "metadata": {},
   "source": [
    "## [2.1] Model 1"
   ]
  },
  {
   "cell_type": "markdown",
   "metadata": {},
   "source": [
    " Input(28,28) - CONV - ReLu - CONV - ReLu - Pool - Dropout - CONV - ReLu - Pool - Dropout - Flatten - ReLu - Dropout - Softmax(Output(10)) - Adam Optimizer"
   ]
  },
  {
   "cell_type": "code",
   "execution_count": 11,
   "metadata": {},
   "outputs": [
    {
     "name": "stdout",
     "output_type": "stream",
     "text": [
      "WARNING:tensorflow:From C:\\Users\\sanjeev\\Anaconda3\\lib\\site-packages\\keras\\backend\\tensorflow_backend.py:4070: The name tf.nn.max_pool is deprecated. Please use tf.nn.max_pool2d instead.\n",
      "\n",
      "Model: \"sequential_1\"\n",
      "_________________________________________________________________\n",
      "Layer (type)                 Output Shape              Param #   \n",
      "=================================================================\n",
      "conv2d_1 (Conv2D)            (None, 28, 28, 32)        160       \n",
      "_________________________________________________________________\n",
      "conv2d_2 (Conv2D)            (None, 28, 28, 64)        8256      \n",
      "_________________________________________________________________\n",
      "max_pooling2d_1 (MaxPooling2 (None, 14, 14, 64)        0         \n",
      "_________________________________________________________________\n",
      "dropout_1 (Dropout)          (None, 14, 14, 64)        0         \n",
      "_________________________________________________________________\n",
      "conv2d_3 (Conv2D)            (None, 14, 14, 128)       32896     \n",
      "_________________________________________________________________\n",
      "max_pooling2d_2 (MaxPooling2 (None, 7, 7, 128)         0         \n",
      "_________________________________________________________________\n",
      "dropout_2 (Dropout)          (None, 7, 7, 128)         0         \n",
      "_________________________________________________________________\n",
      "flatten_1 (Flatten)          (None, 6272)              0         \n",
      "_________________________________________________________________\n",
      "dense_1 (Dense)              (None, 128)               802944    \n",
      "_________________________________________________________________\n",
      "dropout_3 (Dropout)          (None, 128)               0         \n",
      "_________________________________________________________________\n",
      "dense_2 (Dense)              (None, 10)                1290      \n",
      "=================================================================\n",
      "Total params: 845,546\n",
      "Trainable params: 845,546\n",
      "Non-trainable params: 0\n",
      "_________________________________________________________________\n"
     ]
    }
   ],
   "source": [
    "# Model 1 parameters :\n",
    "#       Conv layers : layer1 = 32,layer2 = 64,layer3 = 128\n",
    "#       kernal : (2,2)\n",
    "#       Pooling : (2,2)\n",
    "#       Dropout : 0.5\n",
    "\n",
    "model1 = Sequential()\n",
    "model1.add(Conv2D(32, kernel_size=(2, 2),padding='same',activation='relu',input_shape=input_shape))\n",
    "model1.add(Conv2D(64, kernel_size=(2, 2),padding='same',activation='relu'))\n",
    "model1.add(MaxPooling2D(pool_size=(2, 2)))\n",
    "model1.add(Dropout(0.5))\n",
    "model1.add(Conv2D(128, kernel_size=(2, 2),padding='same',activation='relu'))\n",
    "model1.add(MaxPooling2D(pool_size=(2, 2)))\n",
    "model1.add(Dropout(0.5))\n",
    "model1.add(Flatten())\n",
    "model1.add(Dense(128, activation='relu'))\n",
    "model1.add(Dropout(0.5))\n",
    "model1.add(Dense(output_dim, activation='softmax'))\n",
    "\n",
    "model1.summary()"
   ]
  },
  {
   "cell_type": "code",
   "execution_count": 12,
   "metadata": {},
   "outputs": [
    {
     "name": "stdout",
     "output_type": "stream",
     "text": [
      "WARNING:tensorflow:From C:\\Users\\sanjeev\\Anaconda3\\lib\\site-packages\\keras\\backend\\tensorflow_backend.py:422: The name tf.global_variables is deprecated. Please use tf.compat.v1.global_variables instead.\n",
      "\n",
      "Train on 60000 samples, validate on 10000 samples\n",
      "Epoch 1/30\n",
      "60000/60000 [==============================] - 159s 3ms/step - loss: 0.3913 - accuracy: 0.8763 - val_loss: 0.0818 - val_accuracy: 0.9743\n",
      "Epoch 2/30\n",
      "60000/60000 [==============================] - 163s 3ms/step - loss: 0.1400 - accuracy: 0.9571 - val_loss: 0.0459 - val_accuracy: 0.9854\n",
      "Epoch 3/30\n",
      "60000/60000 [==============================] - 154s 3ms/step - loss: 0.1083 - accuracy: 0.9676 - val_loss: 0.0368 - val_accuracy: 0.9883\n",
      "Epoch 4/30\n",
      "60000/60000 [==============================] - 164s 3ms/step - loss: 0.0942 - accuracy: 0.9712 - val_loss: 0.0353 - val_accuracy: 0.9877\n",
      "Epoch 5/30\n",
      "60000/60000 [==============================] - 157s 3ms/step - loss: 0.0835 - accuracy: 0.9746 - val_loss: 0.0316 - val_accuracy: 0.9902\n",
      "Epoch 6/30\n",
      "60000/60000 [==============================] - 152s 3ms/step - loss: 0.0779 - accuracy: 0.9762 - val_loss: 0.0291 - val_accuracy: 0.9903\n",
      "Epoch 7/30\n",
      "60000/60000 [==============================] - 152s 3ms/step - loss: 0.0732 - accuracy: 0.9776 - val_loss: 0.0284 - val_accuracy: 0.9907\n",
      "Epoch 8/30\n",
      "60000/60000 [==============================] - 153s 3ms/step - loss: 0.0674 - accuracy: 0.9795 - val_loss: 0.0286 - val_accuracy: 0.9897\n",
      "Epoch 9/30\n",
      "60000/60000 [==============================] - 151s 3ms/step - loss: 0.0626 - accuracy: 0.9816 - val_loss: 0.0273 - val_accuracy: 0.9918\n",
      "Epoch 10/30\n",
      "60000/60000 [==============================] - 155s 3ms/step - loss: 0.0603 - accuracy: 0.9819 - val_loss: 0.0278 - val_accuracy: 0.9907\n",
      "Epoch 11/30\n",
      "60000/60000 [==============================] - 166s 3ms/step - loss: 0.0564 - accuracy: 0.9822 - val_loss: 0.0255 - val_accuracy: 0.9911\n",
      "Epoch 12/30\n",
      "60000/60000 [==============================] - 157s 3ms/step - loss: 0.0577 - accuracy: 0.9825 - val_loss: 0.0253 - val_accuracy: 0.9917\n",
      "Epoch 13/30\n",
      "60000/60000 [==============================] - 158s 3ms/step - loss: 0.0515 - accuracy: 0.9836 - val_loss: 0.0235 - val_accuracy: 0.9929\n",
      "Epoch 14/30\n",
      "60000/60000 [==============================] - 158s 3ms/step - loss: 0.0520 - accuracy: 0.9845 - val_loss: 0.0221 - val_accuracy: 0.9926\n",
      "Epoch 15/30\n",
      "60000/60000 [==============================] - 158s 3ms/step - loss: 0.0492 - accuracy: 0.9846 - val_loss: 0.0223 - val_accuracy: 0.9929\n",
      "Epoch 16/30\n",
      "60000/60000 [==============================] - 150s 3ms/step - loss: 0.0481 - accuracy: 0.9851 - val_loss: 0.0221 - val_accuracy: 0.9929\n",
      "Epoch 17/30\n",
      "60000/60000 [==============================] - 153s 3ms/step - loss: 0.0475 - accuracy: 0.9845 - val_loss: 0.0230 - val_accuracy: 0.9923\n",
      "Epoch 18/30\n",
      "60000/60000 [==============================] - 146s 2ms/step - loss: 0.0453 - accuracy: 0.9861 - val_loss: 0.0211 - val_accuracy: 0.9937\n",
      "Epoch 19/30\n",
      "60000/60000 [==============================] - 146s 2ms/step - loss: 0.0459 - accuracy: 0.9860 - val_loss: 0.0225 - val_accuracy: 0.9926\n",
      "Epoch 20/30\n",
      "60000/60000 [==============================] - 146s 2ms/step - loss: 0.0427 - accuracy: 0.9870 - val_loss: 0.0218 - val_accuracy: 0.9932\n",
      "Epoch 21/30\n",
      "60000/60000 [==============================] - 149s 2ms/step - loss: 0.0413 - accuracy: 0.9869 - val_loss: 0.0200 - val_accuracy: 0.9929\n",
      "Epoch 22/30\n",
      "60000/60000 [==============================] - 147s 2ms/step - loss: 0.0402 - accuracy: 0.9873 - val_loss: 0.0209 - val_accuracy: 0.9933\n",
      "Epoch 23/30\n",
      "60000/60000 [==============================] - 147s 2ms/step - loss: 0.0401 - accuracy: 0.9872 - val_loss: 0.0215 - val_accuracy: 0.9929\n",
      "Epoch 24/30\n",
      "60000/60000 [==============================] - 146s 2ms/step - loss: 0.0402 - accuracy: 0.9873 - val_loss: 0.0198 - val_accuracy: 0.9938\n",
      "Epoch 25/30\n",
      "60000/60000 [==============================] - 151s 3ms/step - loss: 0.0391 - accuracy: 0.9876 - val_loss: 0.0203 - val_accuracy: 0.9934\n",
      "Epoch 26/30\n",
      "60000/60000 [==============================] - 146s 2ms/step - loss: 0.0396 - accuracy: 0.9878 - val_loss: 0.0184 - val_accuracy: 0.9944\n",
      "Epoch 27/30\n",
      "60000/60000 [==============================] - 146s 2ms/step - loss: 0.0370 - accuracy: 0.9878 - val_loss: 0.0213 - val_accuracy: 0.9925\n",
      "Epoch 28/30\n",
      "60000/60000 [==============================] - 146s 2ms/step - loss: 0.0371 - accuracy: 0.9883 - val_loss: 0.0189 - val_accuracy: 0.9942\n",
      "Epoch 29/30\n",
      "60000/60000 [==============================] - 147s 2ms/step - loss: 0.0348 - accuracy: 0.9891 - val_loss: 0.0190 - val_accuracy: 0.9931\n",
      "Epoch 30/30\n",
      "60000/60000 [==============================] - 146s 2ms/step - loss: 0.0349 - accuracy: 0.9888 - val_loss: 0.0187 - val_accuracy: 0.9944\n"
     ]
    }
   ],
   "source": [
    "model1.compile(optimizer='adam', loss='categorical_crossentropy', metrics=['accuracy'])\n",
    "\n",
    "history = model1.fit(X_train, y_train, batch_size=batch_size, epochs=nb_epoch, verbose=1, validation_data=(X_test, y_test))"
   ]
  },
  {
   "cell_type": "code",
   "execution_count": 14,
   "metadata": {},
   "outputs": [
    {
     "name": "stdout",
     "output_type": "stream",
     "text": [
      "Test score: 0.018688983194074717\n",
      "Test accuracy: 0.9944000244140625\n"
     ]
    },
    {
     "data": {
      "image/png": "[encoded data removed]",
      "text/plain": [
       "<Figure size 648x504 with 1 Axes>"
      ]
     },
     "metadata": {
      "needs_background": "light"
     },
     "output_type": "display_data"
    }
   ],
   "source": [
    "score1 = model1.evaluate(X_test, y_test, verbose=0) \n",
    "print('Test score:', score1[0]) \n",
    "print('Test accuracy:', score1[1])\n",
    "\n",
    "# list of epoch numbers\n",
    "epochs = list(range(1,nb_epoch+1))\n",
    "val_loss = history.history['val_loss']\n",
    "train_loss = history.history['loss']\n",
    "plt_epoch_vs_loss(epochs, val_loss, train_loss)"
   ]
  },
  {
   "cell_type": "markdown",
   "metadata": {},
   "source": [
    "#  [2.2] Model 2"
   ]
  },
  {
   "cell_type": "markdown",
   "metadata": {},
   "source": [
    "Input(28,28) - CONV - ReLu - CONV - ReLu - Pool - Dropout - CONV - ReLu - CONV - ReLu - Pool - Dropout - CONV - ReLu - Pool - Dropout - Flatten - ReLu - Dropout - Softmax(Output(10)) - Adam Optimizer"
   ]
  },
  {
   "cell_type": "code",
   "execution_count": 15,
   "metadata": {},
   "outputs": [
    {
     "name": "stdout",
     "output_type": "stream",
     "text": [
      "Model: \"sequential_2\"\n",
      "_________________________________________________________________\n",
      "Layer (type)                 Output Shape              Param #   \n",
      "=================================================================\n",
      "conv2d_4 (Conv2D)            (None, 28, 28, 32)        320       \n",
      "_________________________________________________________________\n",
      "conv2d_5 (Conv2D)            (None, 28, 28, 64)        18496     \n",
      "_________________________________________________________________\n",
      "max_pooling2d_3 (MaxPooling2 (None, 9, 9, 64)          0         \n",
      "_________________________________________________________________\n",
      "dropout_4 (Dropout)          (None, 9, 9, 64)          0         \n",
      "_________________________________________________________________\n",
      "conv2d_6 (Conv2D)            (None, 9, 9, 128)         73856     \n",
      "_________________________________________________________________\n",
      "conv2d_7 (Conv2D)            (None, 9, 9, 256)         295168    \n",
      "_________________________________________________________________\n",
      "max_pooling2d_4 (MaxPooling2 (None, 3, 3, 256)         0         \n",
      "_________________________________________________________________\n",
      "dropout_5 (Dropout)          (None, 3, 3, 256)         0         \n",
      "_________________________________________________________________\n",
      "conv2d_8 (Conv2D)            (None, 3, 3, 512)         1180160   \n",
      "_________________________________________________________________\n",
      "max_pooling2d_5 (MaxPooling2 (None, 1, 1, 512)         0         \n",
      "_________________________________________________________________\n",
      "dropout_6 (Dropout)          (None, 1, 1, 512)         0         \n",
      "_________________________________________________________________\n",
      "flatten_2 (Flatten)          (None, 512)               0         \n",
      "_________________________________________________________________\n",
      "dense_3 (Dense)              (None, 256)               131328    \n",
      "_________________________________________________________________\n",
      "dropout_7 (Dropout)          (None, 256)               0         \n",
      "_________________________________________________________________\n",
      "dense_4 (Dense)              (None, 10)                2570      \n",
      "=================================================================\n",
      "Total params: 1,701,898\n",
      "Trainable params: 1,701,898\n",
      "Non-trainable params: 0\n",
      "_________________________________________________________________\n"
     ]
    }
   ],
   "source": [
    "# Model 2 parameters :\n",
    "#       Conv layers : 5\n",
    "#       layer1 = 32,layer2 = 64,layer3 = 128,layer4 = 256,layer5 = 512\n",
    "#       kernal : (3,3)\n",
    "#       Pooling : (3,3)\n",
    "#       Dropout : 0.5\n",
    "\n",
    "from keras.initializers import glorot_normal\n",
    "\n",
    "model2 = Sequential()\n",
    "model2.add(Conv2D(32, kernel_size=(3, 3),padding='same',activation='relu',input_shape=input_shape))\n",
    "model2.add(Conv2D(64, kernel_size=(3, 3),padding='same',activation='relu'))\n",
    "model2.add(MaxPooling2D(pool_size=(3, 3)))\n",
    "model2.add(Dropout(0.5))\n",
    "model2.add(Conv2D(128, kernel_size=(3, 3),padding='same',activation='relu'))\n",
    "model2.add(Conv2D(256, kernel_size=(3, 3),padding='same',activation='relu'))\n",
    "model2.add(MaxPooling2D(pool_size=(3, 3)))\n",
    "model2.add(Dropout(0.5))\n",
    "model2.add(Conv2D(512, kernel_size=(3, 3),padding='same',activation='relu'))\n",
    "model2.add(MaxPooling2D(pool_size=(3, 3)))\n",
    "model2.add(Dropout(0.5))\n",
    "model2.add(Flatten())\n",
    "model2.add(Dense(256, activation='relu',kernel_initializer = glorot_normal(seed=None)))\n",
    "model2.add(Dropout(0.5))\n",
    "model2.add(Dense(output_dim, activation='softmax'))\n",
    "\n",
    "model2.summary()"
   ]
  },
  {
   "cell_type": "code",
   "execution_count": 16,
   "metadata": {},
   "outputs": [
    {
     "name": "stdout",
     "output_type": "stream",
     "text": [
      "Train on 60000 samples, validate on 10000 samples\n",
      "Epoch 1/30\n",
      "60000/60000 [==============================] - 516s 9ms/step - loss: 0.5370 - accuracy: 0.8160 - val_loss: 0.0441 - val_accuracy: 0.9861\n",
      "Epoch 2/30\n",
      "60000/60000 [==============================] - 513s 9ms/step - loss: 0.0954 - accuracy: 0.9723 - val_loss: 0.0296 - val_accuracy: 0.9912\n",
      "Epoch 3/30\n",
      "60000/60000 [==============================] - 500s 8ms/step - loss: 0.0692 - accuracy: 0.9801 - val_loss: 0.0215 - val_accuracy: 0.9932\n",
      "Epoch 4/30\n",
      "60000/60000 [==============================] - 498s 8ms/step - loss: 0.0563 - accuracy: 0.9843 - val_loss: 0.0176 - val_accuracy: 0.9947\n",
      "Epoch 5/30\n",
      "60000/60000 [==============================] - 499s 8ms/step - loss: 0.0550 - accuracy: 0.9844 - val_loss: 0.0205 - val_accuracy: 0.9936\n",
      "Epoch 6/30\n",
      "60000/60000 [==============================] - 502s 8ms/step - loss: 0.0464 - accuracy: 0.9866 - val_loss: 0.0183 - val_accuracy: 0.9946\n",
      "Epoch 7/30\n",
      "60000/60000 [==============================] - 498s 8ms/step - loss: 0.0449 - accuracy: 0.9874 - val_loss: 0.0198 - val_accuracy: 0.9943\n",
      "Epoch 8/30\n",
      "60000/60000 [==============================] - 499s 8ms/step - loss: 0.0405 - accuracy: 0.9884 - val_loss: 0.0204 - val_accuracy: 0.9935\n",
      "Epoch 9/30\n",
      "60000/60000 [==============================] - 563s 9ms/step - loss: 0.0382 - accuracy: 0.9895 - val_loss: 0.0223 - val_accuracy: 0.9938\n",
      "Epoch 10/30\n",
      "60000/60000 [==============================] - 549s 9ms/step - loss: 0.0378 - accuracy: 0.9894 - val_loss: 0.0167 - val_accuracy: 0.9953\n",
      "Epoch 11/30\n",
      "60000/60000 [==============================] - 528s 9ms/step - loss: 0.0357 - accuracy: 0.9897 - val_loss: 0.0249 - val_accuracy: 0.9932\n",
      "Epoch 12/30\n",
      "60000/60000 [==============================] - 523s 9ms/step - loss: 0.0353 - accuracy: 0.9901 - val_loss: 0.0163 - val_accuracy: 0.9952\n",
      "Epoch 13/30\n",
      "60000/60000 [==============================] - 518s 9ms/step - loss: 0.0335 - accuracy: 0.9903 - val_loss: 0.0199 - val_accuracy: 0.9942\n",
      "Epoch 14/30\n",
      "60000/60000 [==============================] - 519s 9ms/step - loss: 0.0321 - accuracy: 0.9907 - val_loss: 0.0205 - val_accuracy: 0.9951\n",
      "Epoch 15/30\n",
      "60000/60000 [==============================] - 517s 9ms/step - loss: 0.0315 - accuracy: 0.9909 - val_loss: 0.0169 - val_accuracy: 0.9946\n",
      "Epoch 16/30\n",
      "60000/60000 [==============================] - 527s 9ms/step - loss: 0.0286 - accuracy: 0.9912 - val_loss: 0.0172 - val_accuracy: 0.9954\n",
      "Epoch 17/30\n",
      "60000/60000 [==============================] - 522s 9ms/step - loss: 0.0276 - accuracy: 0.9917 - val_loss: 0.0198 - val_accuracy: 0.9945\n",
      "Epoch 18/30\n",
      "60000/60000 [==============================] - 520s 9ms/step - loss: 0.0313 - accuracy: 0.9911 - val_loss: 0.0168 - val_accuracy: 0.9956\n",
      "Epoch 19/30\n",
      "60000/60000 [==============================] - 513s 9ms/step - loss: 0.0298 - accuracy: 0.9915 - val_loss: 0.0177 - val_accuracy: 0.9951\n",
      "Epoch 20/30\n",
      "60000/60000 [==============================] - 515s 9ms/step - loss: 0.0281 - accuracy: 0.9919 - val_loss: 0.0188 - val_accuracy: 0.9947\n",
      "Epoch 21/30\n",
      "60000/60000 [==============================] - 516s 9ms/step - loss: 0.0267 - accuracy: 0.9926 - val_loss: 0.0157 - val_accuracy: 0.9954\n",
      "Epoch 22/30\n",
      "60000/60000 [==============================] - 512s 9ms/step - loss: 0.0291 - accuracy: 0.9918 - val_loss: 0.0205 - val_accuracy: 0.9949\n",
      "Epoch 23/30\n",
      "60000/60000 [==============================] - 516s 9ms/step - loss: 0.0277 - accuracy: 0.9918 - val_loss: 0.0168 - val_accuracy: 0.9949\n",
      "Epoch 24/30\n",
      "60000/60000 [==============================] - 512s 9ms/step - loss: 0.0249 - accuracy: 0.9927 - val_loss: 0.0190 - val_accuracy: 0.9951\n",
      "Epoch 25/30\n",
      "60000/60000 [==============================] - 512s 9ms/step - loss: 0.0242 - accuracy: 0.9930 - val_loss: 0.0189 - val_accuracy: 0.9953\n",
      "Epoch 26/30\n",
      "60000/60000 [==============================] - 512s 9ms/step - loss: 0.0256 - accuracy: 0.9930 - val_loss: 0.0201 - val_accuracy: 0.9948\n",
      "Epoch 27/30\n",
      "60000/60000 [==============================] - 512s 9ms/step - loss: 0.0236 - accuracy: 0.9932 - val_loss: 0.0191 - val_accuracy: 0.9955\n",
      "Epoch 28/30\n",
      "60000/60000 [==============================] - 512s 9ms/step - loss: 0.0247 - accuracy: 0.9933 - val_loss: 0.0165 - val_accuracy: 0.9952\n",
      "Epoch 29/30\n",
      "60000/60000 [==============================] - 511s 9ms/step - loss: 0.0239 - accuracy: 0.9934 - val_loss: 0.0151 - val_accuracy: 0.9957\n",
      "Epoch 30/30\n",
      "60000/60000 [==============================] - 518s 9ms/step - loss: 0.0226 - accuracy: 0.9936 - val_loss: 0.0152 - val_accuracy: 0.9955\n"
     ]
    }
   ],
   "source": [
    "model2.compile(optimizer='adam', loss='categorical_crossentropy', metrics=['accuracy'])\n",
    "\n",
    "history = model2.fit(X_train, y_train, batch_size=batch_size, epochs=nb_epoch, verbose=1, validation_data=(X_test, y_test))"
   ]
  },
  {
   "cell_type": "code",
   "execution_count": 17,
   "metadata": {},
   "outputs": [
    {
     "name": "stdout",
     "output_type": "stream",
     "text": [
      "Test score: 0.015234262454181245\n",
      "Test accuracy: 0.9955000281333923\n"
     ]
    },
    {
     "data": {
      "image/png": "[encoded data removed]",
      "text/plain": [
       "<Figure size 648x504 with 1 Axes>"
      ]
     },
     "metadata": {},
     "output_type": "display_data"
    }
   ],
   "source": [
    "score2 = model2.evaluate(X_test, y_test, verbose=0) \n",
    "print('Test score:', score2[0]) \n",
    "print('Test accuracy:', score2[1])\n",
    "\n",
    "# list of epoch numbers\n",
    "epochs = list(range(1,nb_epoch+1))\n",
    "val_loss = history.history['val_loss']\n",
    "train_loss = history.history['loss']\n",
    "plt_epoch_vs_loss(epochs, val_loss, train_loss)"
   ]
  },
  {
   "cell_type": "markdown",
   "metadata": {},
   "source": [
    "# [2.3] Model3"
   ]
  },
  {
   "cell_type": "markdown",
   "metadata": {},
   "source": [
    "Input(28,28) - CONV - ReLu - CONV - ReLu - Pool - Dropout - CONV - ReLu - CONV - ReLu - Pool - Dropout - CONV - ReLu - CONV - ReLu - Pool - Dropout - CONV - ReLu - Pool - Dropout - Flatten - ReLu(BatchNormalization()) - Dropout - Softmax(Output(10)) - Adam Optimizer"
   ]
  },
  {
   "cell_type": "code",
   "execution_count": 18,
   "metadata": {},
   "outputs": [
    {
     "name": "stdout",
     "output_type": "stream",
     "text": [
      "Model: \"sequential_3\"\n",
      "_________________________________________________________________\n",
      "Layer (type)                 Output Shape              Param #   \n",
      "=================================================================\n",
      "conv2d_9 (Conv2D)            (None, 28, 28, 100)       2600      \n",
      "_________________________________________________________________\n",
      "conv2d_10 (Conv2D)           (None, 28, 28, 150)       375150    \n",
      "_________________________________________________________________\n",
      "max_pooling2d_6 (MaxPooling2 (None, 6, 6, 150)         0         \n",
      "_________________________________________________________________\n",
      "dropout_8 (Dropout)          (None, 6, 6, 150)         0         \n",
      "_________________________________________________________________\n",
      "conv2d_11 (Conv2D)           (None, 6, 6, 200)         750200    \n",
      "_________________________________________________________________\n",
      "conv2d_12 (Conv2D)           (None, 6, 6, 250)         1250250   \n",
      "_________________________________________________________________\n",
      "max_pooling2d_7 (MaxPooling2 (None, 2, 2, 250)         0         \n",
      "_________________________________________________________________\n",
      "dropout_9 (Dropout)          (None, 2, 2, 250)         0         \n",
      "_________________________________________________________________\n",
      "conv2d_13 (Conv2D)           (None, 2, 2, 350)         2187850   \n",
      "_________________________________________________________________\n",
      "conv2d_14 (Conv2D)           (None, 2, 2, 400)         3500400   \n",
      "_________________________________________________________________\n",
      "max_pooling2d_8 (MaxPooling2 (None, 1, 1, 400)         0         \n",
      "_________________________________________________________________\n",
      "dropout_10 (Dropout)         (None, 1, 1, 400)         0         \n",
      "_________________________________________________________________\n",
      "conv2d_15 (Conv2D)           (None, 1, 1, 512)         5120512   \n",
      "_________________________________________________________________\n",
      "max_pooling2d_9 (MaxPooling2 (None, 1, 1, 512)         0         \n",
      "_________________________________________________________________\n",
      "dropout_11 (Dropout)         (None, 1, 1, 512)         0         \n",
      "_________________________________________________________________\n",
      "flatten_3 (Flatten)          (None, 512)               0         \n",
      "_________________________________________________________________\n",
      "dense_5 (Dense)              (None, 256)               131328    \n",
      "_________________________________________________________________\n",
      "batch_normalization_1 (Batch (None, 256)               1024      \n",
      "_________________________________________________________________\n",
      "dropout_12 (Dropout)         (None, 256)               0         \n",
      "_________________________________________________________________\n",
      "dense_6 (Dense)              (None, 10)                2570      \n",
      "=================================================================\n",
      "Total params: 13,321,884\n",
      "Trainable params: 13,321,372\n",
      "Non-trainable params: 512\n",
      "_________________________________________________________________\n"
     ]
    }
   ],
   "source": [
    "# Model 7 parameters :\n",
    "#       Conv layers : 7\n",
    "#       layer1 = 100,layer2 = 150,layer3 = 200,layer4 = 250,layer5 = 350,layer = 400,layer = 512\n",
    "#       kernal : (5,5)\n",
    "#       Pooling : (5,5)\n",
    "#       Dropout : 0.25\n",
    "\n",
    "from keras.initializers import he_normal\n",
    "\n",
    "model3 = Sequential()\n",
    "model3.add(Conv2D(100, kernel_size=(5, 5),padding='same',activation='relu',input_shape=input_shape))\n",
    "model3.add(Conv2D(150, kernel_size=(5, 5),padding='same',activation='relu'))\n",
    "model3.add(MaxPooling2D(pool_size=(5, 5),padding = 'same'))\n",
    "model3.add(Dropout(0.25))\n",
    "model3.add(Conv2D(200, kernel_size=(5, 5),padding='same',activation='relu'))\n",
    "model3.add(Conv2D(250, kernel_size=(5, 5),padding='same',activation='relu'))\n",
    "model3.add(MaxPooling2D(pool_size=(5, 5),padding = 'same'))\n",
    "model3.add(Dropout(0.25))\n",
    "model3.add(Conv2D(350, kernel_size=(5, 5),padding='same',activation='relu'))\n",
    "model3.add(Conv2D(400, kernel_size=(5, 5),padding='same',activation='relu'))\n",
    "model3.add(MaxPooling2D(pool_size=(5, 5),padding = 'same'))\n",
    "model3.add(Dropout(0.25))\n",
    "model3.add(Conv2D(512, kernel_size=(5, 5),padding='same',activation='relu'))\n",
    "model3.add(MaxPooling2D(pool_size=(5, 5),padding = 'same'))\n",
    "model3.add(Dropout(0.25))\n",
    "model3.add(Flatten())\n",
    "model3.add(Dense(256, activation='relu',kernel_initializer = he_normal(seed=None)))\n",
    "model3.add(BatchNormalization())\n",
    "model3.add(Dropout(0.25))\n",
    "model3.add(Dense(output_dim, activation='softmax'))\n",
    "\n",
    "model3.summary()"
   ]
  },
  {
   "cell_type": "code",
   "execution_count": 19,
   "metadata": {},
   "outputs": [
    {
     "name": "stdout",
     "output_type": "stream",
     "text": [
      "Train on 60000 samples, validate on 10000 samples\n",
      "Epoch 1/30\n",
      "60000/60000 [==============================] - 3974s 66ms/step - loss: 0.3190 - accuracy: 0.8878 - val_loss: 0.0387 - val_accuracy: 0.9889\n",
      "Epoch 2/30\n",
      "60000/60000 [==============================] - 3763s 63ms/step - loss: 0.0574 - accuracy: 0.9847 - val_loss: 0.0377 - val_accuracy: 0.9900\n",
      "Epoch 3/30\n",
      "60000/60000 [==============================] - 3763s 63ms/step - loss: 0.0429 - accuracy: 0.9887 - val_loss: 0.0325 - val_accuracy: 0.9912\n",
      "Epoch 4/30\n",
      "60000/60000 [==============================] - 3730s 62ms/step - loss: 0.0309 - accuracy: 0.9918 - val_loss: 0.0272 - val_accuracy: 0.9927\n",
      "Epoch 5/30\n",
      "60000/60000 [==============================] - 3719s 62ms/step - loss: 0.0294 - accuracy: 0.9924 - val_loss: 0.0301 - val_accuracy: 0.9918\n",
      "Epoch 6/30\n",
      "60000/60000 [==============================] - 3719s 62ms/step - loss: 0.0257 - accuracy: 0.9934 - val_loss: 0.0352 - val_accuracy: 0.9912\n",
      "Epoch 7/30\n",
      "60000/60000 [==============================] - 3710s 62ms/step - loss: 0.0238 - accuracy: 0.9938 - val_loss: 0.0255 - val_accuracy: 0.9932\n",
      "Epoch 8/30\n",
      "60000/60000 [==============================] - 3720s 62ms/step - loss: 0.0188 - accuracy: 0.9951 - val_loss: 0.0591 - val_accuracy: 0.9854\n",
      "Epoch 9/30\n",
      "60000/60000 [==============================] - 3715s 62ms/step - loss: 0.0185 - accuracy: 0.9951 - val_loss: 0.0326 - val_accuracy: 0.9925\n",
      "Epoch 10/30\n",
      "60000/60000 [==============================] - 3786s 63ms/step - loss: 0.0177 - accuracy: 0.9952 - val_loss: 0.0198 - val_accuracy: 0.9945\n",
      "Epoch 11/30\n",
      "60000/60000 [==============================] - 3980s 66ms/step - loss: 0.0145 - accuracy: 0.9960 - val_loss: 0.0353 - val_accuracy: 0.9919\n",
      "Epoch 12/30\n",
      "60000/60000 [==============================] - 4411s 74ms/step - loss: 0.0152 - accuracy: 0.9961 - val_loss: 0.0295 - val_accuracy: 0.9935\n",
      "Epoch 13/30\n",
      "60000/60000 [==============================] - 3882s 65ms/step - loss: 0.0129 - accuracy: 0.9966 - val_loss: 0.0226 - val_accuracy: 0.9947\n",
      "Epoch 14/30\n",
      "60000/60000 [==============================] - 3630s 61ms/step - loss: 0.0090 - accuracy: 0.9975 - val_loss: 0.0258 - val_accuracy: 0.9941\n",
      "Epoch 15/30\n",
      "60000/60000 [==============================] - 3636s 61ms/step - loss: 0.0121 - accuracy: 0.9969 - val_loss: 0.0246 - val_accuracy: 0.9944\n",
      "Epoch 16/30\n",
      "60000/60000 [==============================] - 3630s 61ms/step - loss: 0.0122 - accuracy: 0.9970 - val_loss: 0.0216 - val_accuracy: 0.9937\n",
      "Epoch 17/30\n",
      "60000/60000 [==============================] - 3630s 60ms/step - loss: 0.0098 - accuracy: 0.9973 - val_loss: 0.0258 - val_accuracy: 0.9940\n",
      "Epoch 18/30\n",
      "60000/60000 [==============================] - 3627s 60ms/step - loss: 0.0083 - accuracy: 0.9980 - val_loss: 0.0236 - val_accuracy: 0.9947\n",
      "Epoch 19/30\n",
      "60000/60000 [==============================] - 3643s 61ms/step - loss: 0.0114 - accuracy: 0.9972 - val_loss: 0.0240 - val_accuracy: 0.9949\n",
      "Epoch 20/30\n",
      "60000/60000 [==============================] - 3632s 61ms/step - loss: 0.0075 - accuracy: 0.9979 - val_loss: 0.0286 - val_accuracy: 0.9926\n",
      "Epoch 21/30\n",
      "60000/60000 [==============================] - 3805s 63ms/step - loss: 0.0077 - accuracy: 0.9980 - val_loss: 0.0290 - val_accuracy: 0.9936\n",
      "Epoch 22/30\n",
      "60000/60000 [==============================] - 3782s 63ms/step - loss: 0.0098 - accuracy: 0.9973 - val_loss: 0.0260 - val_accuracy: 0.9936\n",
      "Epoch 23/30\n",
      "60000/60000 [==============================] - 3700s 62ms/step - loss: 0.0065 - accuracy: 0.9982 - val_loss: 0.0221 - val_accuracy: 0.9950\n",
      "Epoch 24/30\n",
      "60000/60000 [==============================] - 3705s 62ms/step - loss: 0.0068 - accuracy: 0.9983 - val_loss: 0.0208 - val_accuracy: 0.9953\n",
      "Epoch 25/30\n",
      "60000/60000 [==============================] - 3712s 62ms/step - loss: 0.0063 - accuracy: 0.9984 - val_loss: 0.0286 - val_accuracy: 0.9932\n",
      "Epoch 26/30\n",
      "60000/60000 [==============================] - 3698s 62ms/step - loss: 0.0064 - accuracy: 0.9984 - val_loss: 0.0320 - val_accuracy: 0.9936\n",
      "Epoch 27/30\n",
      "60000/60000 [==============================] - 3644s 61ms/step - loss: 0.0059 - accuracy: 0.9985 - val_loss: 0.0201 - val_accuracy: 0.9958\n",
      "Epoch 28/30\n",
      "60000/60000 [==============================] - 3644s 61ms/step - loss: 0.0051 - accuracy: 0.9986 - val_loss: 0.0232 - val_accuracy: 0.9955\n",
      "Epoch 29/30\n",
      "60000/60000 [==============================] - 3664s 61ms/step - loss: 0.0050 - accuracy: 0.9987 - val_loss: 0.0239 - val_accuracy: 0.9952\n",
      "Epoch 30/30\n",
      "60000/60000 [==============================] - 3644s 61ms/step - loss: 0.0054 - accuracy: 0.9987 - val_loss: 0.0254 - val_accuracy: 0.9951\n"
     ]
    }
   ],
   "source": [
    "model3.compile(optimizer='adam', loss='categorical_crossentropy', metrics=['accuracy'])\n",
    "\n",
    "history = model3.fit(X_train, y_train, batch_size=batch_size, epochs=nb_epoch, verbose=1, validation_data=(X_test, y_test))"
   ]
  },
  {
   "cell_type": "code",
   "execution_count": 20,
   "metadata": {},
   "outputs": [
    {
     "name": "stdout",
     "output_type": "stream",
     "text": [
      "Test score: 0.02541344242626779\n",
      "Test accuracy: 0.9951000213623047\n"
     ]
    },
    {
     "data": {
      "image/png": "[encoded data removed]",
      "text/plain": [
       "<Figure size 648x504 with 1 Axes>"
      ]
     },
     "metadata": {},
     "output_type": "display_data"
    }
   ],
   "source": [
    "score3 = model3.evaluate(X_test, y_test, verbose=0) \n",
    "print('Test score:', score3[0]) \n",
    "print('Test accuracy:', score3[1])\n",
    "\n",
    "# list of epoch numbers\n",
    "epoch = list(range(1,nb_epoch+1))\n",
    "val_loss = history.history['val_loss']\n",
    "train_loss = history.history['loss']\n",
    "plt_epoch_vs_loss(epoch, val_loss, train_loss)"
   ]
  },
  {
   "cell_type": "markdown",
   "metadata": {},
   "source": [
    "# [3] Results"
   ]
  },
  {
   "cell_type": "code",
   "execution_count": 22,
   "metadata": {},
   "outputs": [
    {
     "name": "stdout",
     "output_type": "stream",
     "text": [
      "+----------------------------------------+\n",
      "|                Results                 |\n",
      "+-------+-------------+-------+----------+\n",
      "| Model | Conv Layers | Score | Accuracy |\n",
      "+-------+-------------+-------+----------+\n",
      "|   1   |      3      | 0.019 |  0.994   |\n",
      "|   2   |      5      | 0.015 |  0.996   |\n",
      "|   3   |      7      | 0.025 |  0.995   |\n",
      "+-------+-------------+-------+----------+\n"
     ]
    }
   ],
   "source": [
    "from prettytable import PrettyTable\n",
    "\n",
    "table = PrettyTable()\n",
    "table.field_names = [\"Model\",\"Conv Layers\",\"Score\",\"Accuracy\"]\n",
    "table.add_row([1,3 ,round(score1[0],3),round(score1[1],3)])\n",
    "table.add_row([2,5,round(score2[0],3),round(score2[1],3)])\n",
    "table.add_row([3,7,round(score3[0],3),round(score3[1],3)])\n",
    "\n",
    "print(table.get_string(title=\"Results\"))"
   ]
  },
  {
   "cell_type": "markdown",
   "metadata": {},
   "source": [
    "# [4] Conclusion"
   ]
  },
  {
   "cell_type": "markdown",
   "metadata": {},
   "source": [
    "There is no much difference in the accuracy of all models."
   ]
  }
 ],
 "metadata": {
  "kernelspec": {
   "display_name": "Python 3",
   "language": "python",
   "name": "python3"
  },
  "language_info": {
   "codemirror_mode": {
    "name": "ipython",
    "version": 3
   },
   "file_extension": ".py",
   "mimetype": "text/x-python",
   "name": "python",
   "nbconvert_exporter": "python",
   "pygments_lexer": "ipython3",
   "version": "3.7.3"
  }
 },
 "nbformat": 4,
 "nbformat_minor": 2
}
